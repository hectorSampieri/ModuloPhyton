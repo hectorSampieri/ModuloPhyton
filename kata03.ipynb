{
 "cells": [
  {
   "cell_type": "code",
   "execution_count": 5,
   "metadata": {},
   "outputs": [
    {
     "name": "stdout",
     "output_type": "stream",
     "text": [
      "Velocidad del asteroide es mayor a 25 Kmh\n"
     ]
    }
   ],
   "source": [
    "# Añadir el código necesario para crear una variable que guarde la velocidad del asteroide.\n",
    "# Escribe una expresión de prueba para calcular si necesita una advertencia.\n",
    "# Agregue las instrucciones que se ejecutarán si la expresión de prueba es true o false.\n",
    "\n",
    "velocidadAsteroide = 49\n",
    "if velocidadAsteroide > 25:\n",
    "    print('Velocidad del asteroide es mayor a 25 Kmh')\n",
    "else: \n",
    "    print('No pasa nada')\n"
   ]
  },
  {
   "cell_type": "code",
   "execution_count": 10,
   "metadata": {},
   "outputs": [
    {
     "name": "stdout",
     "output_type": "stream",
     "text": [
      "No pasa nada aqui\n"
     ]
    }
   ],
   "source": [
    "# Agrega el código para crear una variable para un asteroide que viaja a 19 km/s\n",
    "# Escribe varias expresiones de prueba para determinar si puedes ver el rayo de luz desde la tierra\n",
    "# Agrega las instrucciones que se ejecutarán si las expresiones de prueba son True o False\n",
    "\n",
    "velocidadAsteroide = 19\n",
    "if velocidadAsteroide > 20:\n",
    "    print('Puedes ver un asteroide acercandose a la tierra')\n",
    "elif velocidadAsteroide ==20:\n",
    "     print('Puedes ver un asteroide acercandose a la tierra!')\n",
    "else: \n",
    "    print('No pasa nada aqui')\n",
    "\n"
   ]
  },
  {
   "cell_type": "code",
   "execution_count": 12,
   "metadata": {},
   "outputs": [
    {
     "name": "stdout",
     "output_type": "stream",
     "text": [
      "Puedes ver un asteroide acercandose a la tierra\n"
     ]
    }
   ],
   "source": [
    "# Agrega el código para crear una variable para un asteroide que viaja a 19 km/s\n",
    "# Escribe varias expresiones de prueba para determinar si puedes ver el rayo de luz desde la tierra\n",
    "# Agrega las instrucciones que se ejecutarán si las expresiones de prueba son True o False\n",
    "# Utilizando solo >= en lugar de elif\n",
    "velocidadAsteroide = 19\n",
    "if velocidadAsteroide >= 20:\n",
    "    print('Puedes ver un asteroide acercandose a la tierra')\n",
    "else: \n",
    "    print('No pasa nada aqui')\n"
   ]
  },
  {
   "cell_type": "code",
   "execution_count": 23,
   "metadata": {},
   "outputs": [
    {
     "name": "stdout",
     "output_type": "stream",
     "text": [
      "Puedes ver un asteroide acercandose a la tierra!\n"
     ]
    }
   ],
   "source": [
    "# Agrega el código para crear nuevas variables para la velocidad y el tamaño del asteroide\n",
    "# Para probar el código, prueba con varias velocidades y tamaños\n",
    "# Escribe varias expresiones de prueba o combinaciones de expresiones de prueba para determinar qué mensaje se debe enviar a Tierra.\n",
    "\n",
    "velocidadAsteroide = 21\n",
    "tamanioAsteroide= 23\n",
    "if velocidadAsteroide > 25 or tamanioAsteroide>25:\n",
    "    print('Se acerca un asteroide peligroso al planeta')\n",
    "elif velocidadAsteroide >=20:\n",
    "     print('Puedes ver un asteroide acercandose a la tierra!')\n",
    "else: \n",
    "    print('No pasa nada aqui')\n"
   ]
  },
  {
   "cell_type": "code",
   "execution_count": null,
   "metadata": {},
   "outputs": [],
   "source": []
  }
 ],
 "metadata": {
  "interpreter": {
   "hash": "7d1ae033f921b362d9bffd35051dea3fbe3d48b877e433e60d0f6883705ecdd2"
  },
  "kernelspec": {
   "display_name": "Python 3.10.2 64-bit",
   "language": "python",
   "name": "python3"
  },
  "language_info": {
   "codemirror_mode": {
    "name": "ipython",
    "version": 3
   },
   "file_extension": ".py",
   "mimetype": "text/x-python",
   "name": "python",
   "nbconvert_exporter": "python",
   "pygments_lexer": "ipython3",
   "version": "3.10.2"
  },
  "orig_nbformat": 4
 },
 "nbformat": 4,
 "nbformat_minor": 2
}
