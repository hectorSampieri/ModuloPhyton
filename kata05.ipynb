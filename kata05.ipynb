{
 "cells": [
  {
   "cell_type": "code",
   "execution_count": 4,
   "metadata": {},
   "outputs": [],
   "source": [
    "#Ejercicio1 - Utilizar operadores aritméticos\n",
    "# Crear variables para almacenar las dos distancias\n",
    "tierra= 149597870\n",
    "jupiter= 778547200\n"
   ]
  },
  {
   "cell_type": "code",
   "execution_count": 6,
   "metadata": {},
   "outputs": [
    {
     "name": "stdout",
     "output_type": "stream",
     "text": [
      "628949330\n",
      "390577533.93\n"
     ]
    }
   ],
   "source": [
    "# Calcular la distancia entre planetas\n",
    "distanciaKm= jupiter - tierra\n",
    "print(distanciaKm)\n",
    "\n",
    "distanciaMillas= distanciaKm * 0.621\n",
    "print(distanciaMillas)"
   ]
  },
  {
   "cell_type": "code",
   "execution_count": 10,
   "metadata": {},
   "outputs": [
    {
     "name": "stdout",
     "output_type": "stream",
     "text": [
      "La distancia de Tierra a Marte son 78300000 Km\n",
      "La distancia de Tierra a Marte son 48624300.0 Millas\n"
     ]
    }
   ],
   "source": [
    "# Ejercicio 2: convierte cadenas en números y usa valores absolutos\n",
    "# Almacenar las entradas del usuario\n",
    "nombrePlaneta1 = input(\"¿Nombre del primer planeta\")\n",
    "primerPlaneta = input(f\"¿Distancia del Sol a {nombrePlaneta1}\")\n",
    "nombrePlaneta2 = input(\"¿Nombre del segundo planeta\")\n",
    "segundoPlaneta = input(f\"¿Distancia del Sol a {nombrePlaneta2}\")\n",
    "\n",
    "# Convierte las cadenas de ambos planetas a números enteros\n",
    "primerPlaneta = int(primerPlaneta )\n",
    "segundoPlaneta= int(segundoPlaneta)\n",
    "\n",
    "# Realizar el cálculo y determinar el valor absoluto\n",
    "distanciaKm= abs(primerPlaneta - segundoPlaneta)\n",
    "print(f\"La distancia de {nombrePlaneta1} a {nombrePlaneta2} son {distanciaKm} Km\")\n",
    "distanciaMillas= distanciaKm * 0.621\n",
    "print(f\"La distancia de {nombrePlaneta1} a {nombrePlaneta2} son {distanciaMillas} Millas\")\n"
   ]
  },
  {
   "cell_type": "code",
   "execution_count": null,
   "metadata": {},
   "outputs": [],
   "source": []
  }
 ],
 "metadata": {
  "interpreter": {
   "hash": "7d1ae033f921b362d9bffd35051dea3fbe3d48b877e433e60d0f6883705ecdd2"
  },
  "kernelspec": {
   "display_name": "Python 3.10.2 64-bit",
   "language": "python",
   "name": "python3"
  },
  "language_info": {
   "codemirror_mode": {
    "name": "ipython",
    "version": 3
   },
   "file_extension": ".py",
   "mimetype": "text/x-python",
   "name": "python",
   "nbconvert_exporter": "python",
   "pygments_lexer": "ipython3",
   "version": "3.10.2"
  },
  "orig_nbformat": 4
 },
 "nbformat": 4,
 "nbformat_minor": 2
}
