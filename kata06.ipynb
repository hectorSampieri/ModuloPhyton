{
 "cells": [
  {
   "cell_type": "code",
   "execution_count": 2,
   "metadata": {},
   "outputs": [
    {
     "name": "stdout",
     "output_type": "stream",
     "text": [
      "Existen 8  planetas\n"
     ]
    }
   ],
   "source": [
    "#Ejercicio1: Crear y usar listas de Python\n",
    "# Creamos la lista planets y la mostramos\n",
    "planetas =[\"Mercurio\",\"Venus\",\"Tierra\",\"Marte\",\"Jupiter\",\"Saturno\",\"Urano\",\"Neptuno\"]\n",
    "print(\"Existen\" ,len(planetas) ,\" planetas\")"
   ]
  },
  {
   "cell_type": "code",
   "execution_count": 3,
   "metadata": {},
   "outputs": [
    {
     "name": "stdout",
     "output_type": "stream",
     "text": [
      "El ultimo planeta es  Plutón\n"
     ]
    }
   ],
   "source": [
    "# Agregamos a plutón y mostramos el último elemento\n",
    "planetas.append(\"Plutón\")\n",
    "print(\"El ultimo planeta es \", planetas[-1])"
   ]
  },
  {
   "cell_type": "code",
   "execution_count": 4,
   "metadata": {},
   "outputs": [
    {
     "name": "stdout",
     "output_type": "stream",
     "text": [
      "Los planetas mas cercanos al sol que : Marte son: \n",
      "['Mercurio', 'Venus', 'Tierra']\n",
      "Los planetas mas lejanosal sol que : Marte son: \n",
      "['Jupiter', 'Saturno', 'Urano', 'Neptuno']\n"
     ]
    }
   ],
   "source": [
    "#Ejercicio 2: Trabajando con datos de una lista\n",
    "# Lista de planetas\n",
    "planetas =[\"Mercurio\",\"Venus\",\"Tierra\",\"Marte\",\"Jupiter\",\"Saturno\",\"Urano\",\"Neptuno\"]\n",
    "# Solicitamos el nombre de un planeta *Pista:  input()*\n",
    "planetaBuscar= input(\"Proporcione el nombre de un planeta (debe comenzar con mayuscula)\")\n",
    "# Busca el planeta en la lista\n",
    "try:\n",
    "    indicePlaneta= planetas.index(planetaBuscar)\n",
    "    # Muestra los planetas más cercanos al sol\n",
    "    print(f\"Los planetas mas cercanos al sol que : {planetaBuscar} son: \")\n",
    "    print(planetas[0:indicePlaneta])\n",
    "# Muestra los planetas más lejanos al sol  \n",
    "    print(f\"Los planetas mas lejanosal sol que : {planetaBuscar} son: \")\n",
    "    print(planetas[indicePlaneta +1:])\n",
    "except ValueError:\n",
    "    print (f\"El planeta {planetaBuscar} no existe\")"
   ]
  }
 ],
 "metadata": {
  "interpreter": {
   "hash": "7d1ae033f921b362d9bffd35051dea3fbe3d48b877e433e60d0f6883705ecdd2"
  },
  "kernelspec": {
   "display_name": "Python 3.10.2 64-bit",
   "language": "python",
   "name": "python3"
  },
  "language_info": {
   "codemirror_mode": {
    "name": "ipython",
    "version": 3
   },
   "file_extension": ".py",
   "mimetype": "text/x-python",
   "name": "python",
   "nbconvert_exporter": "python",
   "pygments_lexer": "ipython3",
   "version": "3.10.2"
  },
  "orig_nbformat": 4
 },
 "nbformat": 4,
 "nbformat_minor": 2
}
